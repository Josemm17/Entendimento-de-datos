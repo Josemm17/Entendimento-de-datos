{
 "cells": [
  {
   "cell_type": "code",
   "execution_count": 10,
   "metadata": {},
   "outputs": [],
   "source": [
    "import json\n",
    "import pandas as pd\n",
    "import numpy as np"
   ]
  },
  {
   "cell_type": "code",
   "execution_count": null,
   "metadata": {},
   "outputs": [],
   "source": [
    "df_rio=pd.read_csv(\"listings_Rio.csv\")\n",
    "df_rio"
   ]
  },
  {
   "cell_type": "code",
   "execution_count": 12,
   "metadata": {},
   "outputs": [],
   "source": [
    "pd.options.display.max_rows=10"
   ]
  },
  {
   "cell_type": "code",
   "execution_count": 13,
   "metadata": {},
   "outputs": [
    {
     "name": "stdout",
     "output_type": "stream",
     "text": [
      "<class 'pandas.core.frame.DataFrame'>\n",
      "RangeIndex: 39499 entries, 0 to 39498\n",
      "Data columns (total 75 columns):\n",
      " #   Column                                        Non-Null Count  Dtype  \n",
      "---  ------                                        --------------  -----  \n",
      " 0   id                                            39499 non-null  int64  \n",
      " 1   listing_url                                   39499 non-null  object \n",
      " 2   scrape_id                                     39499 non-null  int64  \n",
      " 3   last_scraped                                  39499 non-null  object \n",
      " 4   source                                        39499 non-null  object \n",
      " 5   name                                          39499 non-null  object \n",
      " 6   description                                   38379 non-null  object \n",
      " 7   neighborhood_overview                         16880 non-null  object \n",
      " 8   picture_url                                   39499 non-null  object \n",
      " 9   host_id                                       39499 non-null  int64  \n",
      " 10  host_url                                      39499 non-null  object \n",
      " 11  host_name                                     39497 non-null  object \n",
      " 12  host_since                                    39497 non-null  object \n",
      " 13  host_location                                 31853 non-null  object \n",
      " 14  host_about                                    18680 non-null  object \n",
      " 15  host_response_time                            35578 non-null  object \n",
      " 16  host_response_rate                            35578 non-null  object \n",
      " 17  host_acceptance_rate                          35965 non-null  object \n",
      " 18  host_is_superhost                             38329 non-null  object \n",
      " 19  host_thumbnail_url                            39497 non-null  object \n",
      " 20  host_picture_url                              39497 non-null  object \n",
      " 21  host_neighbourhood                            33964 non-null  object \n",
      " 22  host_listings_count                           39497 non-null  float64\n",
      " 23  host_total_listings_count                     39497 non-null  float64\n",
      " 24  host_verifications                            39497 non-null  object \n",
      " 25  host_has_profile_pic                          39497 non-null  object \n",
      " 26  host_identity_verified                        39497 non-null  object \n",
      " 27  neighbourhood                                 16880 non-null  object \n",
      " 28  neighbourhood_cleansed                        39499 non-null  object \n",
      " 29  neighbourhood_group_cleansed                  0 non-null      float64\n",
      " 30  latitude                                      39499 non-null  float64\n",
      " 31  longitude                                     39499 non-null  float64\n",
      " 32  property_type                                 39499 non-null  object \n",
      " 33  room_type                                     39499 non-null  object \n",
      " 34  accommodates                                  39499 non-null  int64  \n",
      " 35  bathrooms                                     36609 non-null  float64\n",
      " 36  bathrooms_text                                39442 non-null  object \n",
      " 37  bedrooms                                      38976 non-null  float64\n",
      " 38  beds                                          36630 non-null  float64\n",
      " 39  amenities                                     39499 non-null  object \n",
      " 40  price                                         36644 non-null  object \n",
      " 41  minimum_nights                                39499 non-null  int64  \n",
      " 42  maximum_nights                                39499 non-null  int64  \n",
      " 43  minimum_minimum_nights                        39499 non-null  int64  \n",
      " 44  maximum_minimum_nights                        39499 non-null  int64  \n",
      " 45  minimum_maximum_nights                        39499 non-null  int64  \n",
      " 46  maximum_maximum_nights                        39499 non-null  int64  \n",
      " 47  minimum_nights_avg_ntm                        39499 non-null  float64\n",
      " 48  maximum_nights_avg_ntm                        39499 non-null  float64\n",
      " 49  calendar_updated                              0 non-null      float64\n",
      " 50  has_availability                              39002 non-null  object \n",
      " 51  availability_30                               39499 non-null  int64  \n",
      " 52  availability_60                               39499 non-null  int64  \n",
      " 53  availability_90                               39499 non-null  int64  \n",
      " 54  availability_365                              39499 non-null  int64  \n",
      " 55  calendar_last_scraped                         39499 non-null  object \n",
      " 56  number_of_reviews                             39499 non-null  int64  \n",
      " 57  number_of_reviews_ltm                         39499 non-null  int64  \n",
      " 58  number_of_reviews_l30d                        39499 non-null  int64  \n",
      " 59  first_review                                  29080 non-null  object \n",
      " 60  last_review                                   29080 non-null  object \n",
      " 61  review_scores_rating                          29080 non-null  float64\n",
      " 62  review_scores_accuracy                        29079 non-null  float64\n",
      " 63  review_scores_cleanliness                     29080 non-null  float64\n",
      " 64  review_scores_checkin                         29079 non-null  float64\n",
      " 65  review_scores_communication                   29079 non-null  float64\n",
      " 66  review_scores_location                        29078 non-null  float64\n",
      " 67  review_scores_value                           29079 non-null  float64\n",
      " 68  license                                       0 non-null      float64\n",
      " 69  instant_bookable                              39499 non-null  object \n",
      " 70  calculated_host_listings_count                39499 non-null  int64  \n",
      " 71  calculated_host_listings_count_entire_homes   39499 non-null  int64  \n",
      " 72  calculated_host_listings_count_private_rooms  39499 non-null  int64  \n",
      " 73  calculated_host_listings_count_shared_rooms   39499 non-null  int64  \n",
      " 74  reviews_per_month                             29080 non-null  float64\n",
      "dtypes: float64(20), int64(21), object(34)\n",
      "memory usage: 22.6+ MB\n"
     ]
    }
   ],
   "source": [
    "df_rio.info()"
   ]
  },
  {
   "cell_type": "code",
   "execution_count": null,
   "metadata": {},
   "outputs": [
    {
     "name": "stdout",
     "output_type": "stream",
     "text": [
      "<class 'pandas.core.frame.DataFrame'>\n",
      "RangeIndex: 39499 entries, 0 to 39498\n",
      "Data columns (total 50 columns):\n",
      " #   Column                                        Non-Null Count  Dtype  \n",
      "---  ------                                        --------------  -----  \n",
      " 0   source                                        39499 non-null  object \n",
      " 1   name                                          39499 non-null  object \n",
      " 2   host_since                                    39497 non-null  object \n",
      " 3   host_location                                 31853 non-null  object \n",
      " 4   host_response_time                            35578 non-null  object \n",
      " 5   host_response_rate                            35578 non-null  object \n",
      " 6   host_acceptance_rate                          35965 non-null  object \n",
      " 7   host_is_superhost                             38329 non-null  object \n",
      " 8   host_neighbourhood                            33964 non-null  object \n",
      " 9   host_listings_count                           39497 non-null  float64\n",
      " 10  host_total_listings_count                     39497 non-null  float64\n",
      " 11  host_identity_verified                        39497 non-null  object \n",
      " 12  neighbourhood                                 16880 non-null  object \n",
      " 13  neighbourhood_cleansed                        39499 non-null  object \n",
      " 14  property_type                                 39499 non-null  object \n",
      " 15  room_type                                     39499 non-null  object \n",
      " 16  accommodates                                  39499 non-null  int64  \n",
      " 17  bathrooms                                     36609 non-null  float64\n",
      " 18  bedrooms                                      38976 non-null  float64\n",
      " 19  beds                                          36630 non-null  float64\n",
      " 20  price                                         36644 non-null  object \n",
      " 21  minimum_nights                                39499 non-null  int64  \n",
      " 22  maximum_nights                                39499 non-null  int64  \n",
      " 23  minimum_minimum_nights                        39499 non-null  int64  \n",
      " 24  maximum_minimum_nights                        39499 non-null  int64  \n",
      " 25  minimum_maximum_nights                        39499 non-null  int64  \n",
      " 26  maximum_maximum_nights                        39499 non-null  int64  \n",
      " 27  has_availability                              39002 non-null  object \n",
      " 28  availability_30                               39499 non-null  int64  \n",
      " 29  availability_60                               39499 non-null  int64  \n",
      " 30  availability_90                               39499 non-null  int64  \n",
      " 31  availability_365                              39499 non-null  int64  \n",
      " 32  number_of_reviews                             39499 non-null  int64  \n",
      " 33  number_of_reviews_ltm                         39499 non-null  int64  \n",
      " 34  number_of_reviews_l30d                        39499 non-null  int64  \n",
      " 35  first_review                                  29080 non-null  object \n",
      " 36  last_review                                   29080 non-null  object \n",
      " 37  review_scores_rating                          29080 non-null  float64\n",
      " 38  review_scores_accuracy                        29079 non-null  float64\n",
      " 39  review_scores_cleanliness                     29080 non-null  float64\n",
      " 40  review_scores_checkin                         29079 non-null  float64\n",
      " 41  review_scores_communication                   29079 non-null  float64\n",
      " 42  review_scores_location                        29078 non-null  float64\n",
      " 43  review_scores_value                           29079 non-null  float64\n",
      " 44  instant_bookable                              39499 non-null  object \n",
      " 45  calculated_host_listings_count                39499 non-null  int64  \n",
      " 46  calculated_host_listings_count_entire_homes   39499 non-null  int64  \n",
      " 47  calculated_host_listings_count_private_rooms  39499 non-null  int64  \n",
      " 48  calculated_host_listings_count_shared_rooms   39499 non-null  int64  \n",
      " 49  reviews_per_month                             29080 non-null  float64\n",
      "dtypes: float64(13), int64(18), object(19)\n",
      "memory usage: 15.1+ MB\n"
     ]
    }
   ],
   "source": [
    "columnas_50=df_rio.iloc[ : , [4,5,12,13,15,16,17,18,21,22,23,26,27,28,32,33,34,35,37,38,40,41,42,43,44,45,46,50,51,52,53,54,56,57,58,59,60,\n",
    "                              61,62,63,64,65,66,67,69,70,71,72,73,74]]\n",
    "columnas_50.info()"
   ]
  },
  {
   "cell_type": "code",
   "execution_count": 18,
   "metadata": {},
   "outputs": [],
   "source": [
    "columnas_50.to_csv(\"Rio.csv\")"
   ]
  }
 ],
 "metadata": {
  "kernelspec": {
   "display_name": "base",
   "language": "python",
   "name": "python3"
  },
  "language_info": {
   "codemirror_mode": {
    "name": "ipython",
    "version": 3
   },
   "file_extension": ".py",
   "mimetype": "text/x-python",
   "name": "python",
   "nbconvert_exporter": "python",
   "pygments_lexer": "ipython3",
   "version": "3.12.4"
  }
 },
 "nbformat": 4,
 "nbformat_minor": 2
}
